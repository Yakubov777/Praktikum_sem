{
  "nbformat": 4,
  "nbformat_minor": 0,
  "metadata": {
    "colab": {
      "provenance": []
    },
    "kernelspec": {
      "name": "python3",
      "display_name": "Python 3"
    },
    "language_info": {
      "name": "python"
    }
  },
  "cells": [
    {
      "cell_type": "code",
      "execution_count": null,
      "metadata": {
        "id": "2tLGHmjQMBQN"
      },
      "outputs": [],
      "source": [
        "import numpy as np\n",
        "import pandas as pd"
      ]
    },
    {
      "cell_type": "markdown",
      "source": [
        "Постройте гистограмму из 20 наиболее употребительных слов в приложенном файле, а таже сделайте сводку по файлу включая количество слов, строк и символов (с пробелами и без них)."
      ],
      "metadata": {
        "id": "cfGTOeO8Sz61"
      }
    },
    {
      "cell_type": "code",
      "source": [
        "f = open('/content/Уэллс_-_Война_миров.txt', encoding='cp1251')"
      ],
      "metadata": {
        "id": "fI0WwEe8NnH1"
      },
      "execution_count": null,
      "outputs": []
    },
    {
      "cell_type": "code",
      "source": [
        "s = f.read()\n",
        "k = s.split()"
      ],
      "metadata": {
        "id": "e7F4puKPOJIl"
      },
      "execution_count": null,
      "outputs": []
    },
    {
      "cell_type": "code",
      "source": [
        "a = len(s.split())\n",
        "b = s.count(\"\\n\")\n",
        "c = len(s)\n",
        "d = len(''.join(s.split()))\n",
        "print(f'количество слов {a}')\n",
        "print(f'количество строк {b}')\n",
        "print(f'количество символов с пробелами {c}')\n",
        "print(f'количество символов без пробелов {d}')"
      ],
      "metadata": {
        "colab": {
          "base_uri": "https://localhost:8080/"
        },
        "id": "w8SXf2b_ULQk",
        "outputId": "aadad344-adcc-4100-8d6c-b6f4b4f0d210"
      },
      "execution_count": null,
      "outputs": [
        {
          "output_type": "stream",
          "name": "stdout",
          "text": [
            "количество слов 45354\n",
            "количество строк 2128\n",
            "количество символов с пробелами 298375\n",
            "количество символов без пробелов 251863\n"
          ]
        }
      ]
    },
    {
      "cell_type": "code",
      "source": [
        "f = open('/content/Уэллс_-_Война_миров.txt', encoding='cp1251')\n",
        "s = f.read()\n",
        "s = s.lower()\n",
        "s = s.replace(',', ' ')\n",
        "s = s.replace('.', ' ')\n",
        "s = s.replace(':', ' ')\n",
        "s = s.replace(';', ' ')\n",
        "s = s.replace('...', ' ')\n",
        "s = s.replace('-', ' ')\n",
        "s = s.replace('–', ' ')\n",
        "s = s.replace('?', ' ')\n",
        "s = s.replace('!', ' ')\n",
        "k = s.split()\n",
        "\n"
      ],
      "metadata": {
        "id": "f_Di6Ft1VLyO"
      },
      "execution_count": null,
      "outputs": []
    },
    {
      "cell_type": "code",
      "source": [
        "import collections\n",
        "word_counts = collections.Counter(k)\n",
        "often = word_counts.most_common(20)\n",
        "often"
      ],
      "metadata": {
        "colab": {
          "base_uri": "https://localhost:8080/"
        },
        "id": "PcWx4NL_VL0b",
        "outputId": "f1e2cbdc-f0d9-41e7-bbdc-28f9824e3e70"
      },
      "execution_count": null,
      "outputs": [
        {
          "output_type": "execute_result",
          "data": {
            "text/plain": [
              "[('и', 1744),\n",
              " ('в', 1198),\n",
              " ('я', 1006),\n",
              " ('на', 893),\n",
              " ('не', 628),\n",
              " ('что', 605),\n",
              " ('с', 417),\n",
              " ('он', 362),\n",
              " ('к', 362),\n",
              " ('по', 324),\n",
              " ('то', 303),\n",
              " ('из', 294),\n",
              " ('как', 283),\n",
              " ('они', 250),\n",
              " ('все', 245),\n",
              " ('за', 239),\n",
              " ('мы', 219),\n",
              " ('от', 216),\n",
              " ('но', 212),\n",
              " ('это', 206)]"
            ]
          },
          "metadata": {},
          "execution_count": 108
        }
      ]
    },
    {
      "cell_type": "code",
      "source": [
        "words, counts = zip(*often)"
      ],
      "metadata": {
        "id": "Gp_XClW2ZT0I"
      },
      "execution_count": null,
      "outputs": []
    },
    {
      "cell_type": "code",
      "source": [
        "import matplotlib.pyplot as plt\n",
        "fig, ax = plt.subplots()\n",
        "\n",
        "ax.bar(words, counts)\n",
        "ax.set_xticklabels(words)\n",
        "ax.set_ylabel('Количество')\n",
        "\n",
        "plt.show()"
      ],
      "metadata": {
        "colab": {
          "base_uri": "https://localhost:8080/",
          "height": 465
        },
        "id": "DDk1bmCsVL2J",
        "outputId": "387fde13-3c0b-4442-b218-8b6fa8420e3f"
      },
      "execution_count": null,
      "outputs": [
        {
          "output_type": "stream",
          "name": "stderr",
          "text": [
            "<ipython-input-111-05efbefe0c55>:5: UserWarning: FixedFormatter should only be used together with FixedLocator\n",
            "  ax.set_xticklabels(words)\n"
          ]
        },
        {
          "output_type": "display_data",
          "data": {
            "text/plain": [
              "<Figure size 640x480 with 1 Axes>"
            ],
            "image/png": "[encoded data removed]"
          },
          "metadata": {}
        }
      ]
    },
    {
      "cell_type": "code",
      "source": [
        "sns.histplot"
      ],
      "metadata": {
        "colab": {
          "base_uri": "https://localhost:8080/"
        },
        "id": "562BmT0MVL4e",
        "outputId": "f8d96bc2-a7ca-483e-eff6-ea4107418ac7"
      },
      "execution_count": null,
      "outputs": [
        {
          "output_type": "execute_result",
          "data": {
            "text/plain": [
              "<function seaborn.distributions.histplot(data=None, *, x=None, y=None, hue=None, weights=None, stat='count', bins='auto', binwidth=None, binrange=None, discrete=None, cumulative=False, common_bins=True, common_norm=True, multiple='layer', element='bars', fill=True, shrink=1, kde=False, kde_kws=None, line_kws=None, thresh=0, pthresh=None, pmax=None, cbar=False, cbar_ax=None, cbar_kws=None, palette=None, hue_order=None, hue_norm=None, color=None, log_scale=None, legend=True, ax=None, **kwargs)>"
            ]
          },
          "metadata": {},
          "execution_count": 97
        }
      ]
    },
    {
      "cell_type": "code",
      "source": [],
      "metadata": {
        "id": "L4xZmsXhVL73"
      },
      "execution_count": null,
      "outputs": []
    },
    {
      "cell_type": "code",
      "source": [],
      "metadata": {
        "id": "uagng_NpVL-c"
      },
      "execution_count": null,
      "outputs": []
    },
    {
      "cell_type": "markdown",
      "source": [
        "open"
      ],
      "metadata": {
        "id": "It4k-OdhODzT"
      }
    },
    {
      "cell_type": "markdown",
      "source": [],
      "metadata": {
        "id": "leo1h4ePODt7"
      }
    }
  ]
}